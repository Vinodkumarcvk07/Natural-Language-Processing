{
 "cells": [
  {
   "cell_type": "markdown",
   "metadata": {},
   "source": [
    "# Preparing the Women's Clothing E-Commerce Review Dataset\n",
    "_by Nick Brooks, Janurary 2018_\n",
    "\n",
    "- [**Github**](https://github.com/nicapotato)\n",
    "- [**Kaggle**](https://www.kaggle.com/nicapotato/)\n",
    "- [**Linkedin**](https://www.linkedin.com/in/nickbrooks7)"
   ]
  },
  {
   "cell_type": "code",
   "execution_count": 1,
   "metadata": {
    "collapsed": true
   },
   "outputs": [],
   "source": [
    "# Packages\n",
    "import pandas as pd"
   ]
  },
  {
   "cell_type": "code",
   "execution_count": 2,
   "metadata": {
    "collapsed": true
   },
   "outputs": [],
   "source": [
    "# Processing\n",
    "data = pd.ExcelFile(\"Women's Retail/retail dataset.xlsx\")\n",
    "df = data.parse(\"Sheet1\", header=1)\n",
    "df = df.drop([\"Unnamed: 18\", \"Unnamed: 19\", \"Unnamed: 20\", \"Unnamed: 21\",\"Unnamed: 22\",\"Unnamed: 23\",\"Unnamed: 24\",\"Unnamed: 25\",\"Unnamed: 26\"], axis = 1)\n",
    "df = df.drop([\"REVIEW_ID\", \"RATING_RANGE\", \"NUM_NEGATIVE_FEEDBACKS\"], axis = 1)\n",
    "\n",
    "# Anonymize Categorical Feature Values\n",
    "df[\"DIVISION_NAME\"].replace({'ANTHRO  INTIMATES (NA)': \"Initmates\",\n",
    "                             \"ANTHRO. WOMEN'S DIVISION (NA)\":\"General\",\n",
    "                             \"ANTHRO. MISC. DIVISION (NA)\":\"General Petite\"},inplace=True)\n",
    "df[\"DEPARTMENT_NAME\"]= df[\"DEPARTMENT_NAME\"].str.replace(\n",
    "    r\"(WOMEN'S)|(NA)|[()]|(ANTHRO.)\", '').str.strip().str.lower().str.capitalize()\n",
    "df[\"CLASS_NAME\"]= df[\"CLASS_NAME\"].str.replace(\n",
    "    r\"[-]|(NA)|[()]|(ANTHRO.)\", '').str.strip().str.lower().str.capitalize()\n",
    "\n",
    "df.columns = [\"Clothing ID\", \"Age\", \"IDD\",\"Title\",\"Review Text\",\"Rating\",\n",
    "              \"Recommended IND\",\"Feedback Count\",\"Positive Feedback Count\",\"Division ID\",\"Division Name\",\n",
    "              \"Department ID\",\"Department Name\",\"Class ID\",\"Class Name\"]\n",
    "\n",
    "# Replace mentions of Anthropologic with \"Retailer\"\n",
    "df.Title = df.Title.str.replace(\n",
    "    r'((?i)anthropologie|(?i)anthropology|(?i)anthro)',\n",
    "    'Retailer').str.strip().str.lower().str.capitalize()\n",
    "df[\"Review Text\"] = df[\"Review Text\"].str.replace(\n",
    "    r'((?i)anthropologie|(?i)anthropology|(?i)anthro|(?i)anthr)',\n",
    "    'Retailer').str.strip().str.lower().str.capitalize()\n",
    "# Couldn't figure out silver bullet\n",
    "# https://stackoverflow.com/questions/39768547/replace-whole-string-if-it-contains-substring-in-pandas"
   ]
  },
  {
   "cell_type": "markdown",
   "metadata": {},
   "source": [
    "**Code Explanation:** <br>\n",
    "The Read Data section uses a Pandas function to read and parse the first sheet of the excel formatted retail dataset. Then, blank columns are removed, aswell as the unused variables “REVIEW_ID” and “RATING_RANGE”. Finally, the Transform Depedent Variable to Binary section creates a new variable.\n",
    "\n",
    "Next, the comments themselves must be cleaned and anonymized.\n",
    "\n",
    "**Regular Expressions:**\n",
    "- Replace() : This command swaps every occurence of the first dictionary key with the dictionary value.\n",
    "- str.strip() : This command removes white space before and after the start of text.\n",
    "- str.lower() : This command lower cases all the text.\n",
    "- str.capitaize() : This command capitalizes the first character of sentences.\n",
    "\n",
    "**Regex Compilers:**\n",
    "- r\" \" : The \"r\" signifies a string object, so that /, \\, and ' dont get interpret as they generally do in python.\n",
    "- r\"(WOMEN'S)|(NA)|[()]|(ANTHRO.)\" : Targets strings that match those in the brackets (blabla). The | is an AND argument, enabling the chaining of multiple string targets. Finally, all these string parts are replaces with \"\" ; nothing.\n",
    "\n",
    "The last part of the code renames the columns into a cleaner format. Infact I could have use list comprehension and regular expressions for this part aswell, but simpler just hard fix it!\n",
    "\n",
    "**Code Interpretation: Variables and Processing:** <br>\n",
    "The first step is to address the the variables and dive into the pre-processing steps necessary to turn raw text into valuable output. This dataset’s notable variables include: review title and review body of clothing product, rating assigned to the product, age of customer, whether the product was recommended, and finally department and division.\n",
    "\n",
    "In order to facilitate the use of sentiment analysis, a new boolean variable is created to categories good and bad reviews. All reviews with a rating of 3 and over, were deemed good, and reviews under 3 deemed bad. This step is especially important for the use of Naive Bayes’ supervised learning algorithm, since it requires a clear binary label to train upon.\n",
    "***"
   ]
  },
  {
   "cell_type": "code",
   "execution_count": 3,
   "metadata": {},
   "outputs": [
    {
     "name": "stdout",
     "output_type": "stream",
     "text": [
      "Class Name Category Count:\n",
      "Before: 33\n",
      "After: 22\n",
      "Difference: 11\n"
     ]
    }
   ],
   "source": [
    "# Replace Other with Dress\n",
    "df[\"Department Name\"].replace({'Other':'Dresses'}, inplace=True)\n",
    "\n",
    "# Regular Expression to remove \"Petites\" specification in \"Class Name\"\n",
    "class_length_before = len(set(df[\"Class Name\"]))\n",
    "df[\"Class Name\"]= df[\"Class Name\"].str.replace(\n",
    "    r\"(petites)|(petite)\", '').str.strip().str.lower().str.capitalize()\n",
    "\n",
    "# Fix Knits Problem:\n",
    "df.loc[df[\"Class Name\"] == \"Cut and sew knits\", \"Class Name\"]= \"Knits\"\n",
    "class_length_after = len(set(df[\"Class Name\"]))\n",
    "                         \n",
    "print(\"Class Name Category Count:\\nBefore: {}\\nAfter: {}\\nDifference: {}\".format(\n",
    "    class_length_before, class_length_after,class_length_before-class_length_after))"
   ]
  },
  {
   "cell_type": "markdown",
   "metadata": {},
   "source": [
    "**Fixing the Redundancy:** <br>\n",
    "While the \"Division Name\" variable is supposed to distinguish *General* and *Petite General*, the **Department Name** variable interferes with the category since it has its own *Petite* category. Here, this redundancy is fixed."
   ]
  },
  {
   "cell_type": "code",
   "execution_count": 4,
   "metadata": {
    "collapsed": true
   },
   "outputs": [],
   "source": [
    "# Disolve Petite from Department Name, so it can be applied properly through Division Name\n",
    "for x in set(df[\"Class Name\"][df[\"Class Name\"].notnull()]):\n",
    "    df.loc[(df[\"Class Name\"] == x) & (df[\"Department Name\"] == \"Petites\"), \"Department Name\"] = \\\n",
    "    df.loc[(df[\"Class Name\"]== x) & (df[\"Department Name\"] != \"Petites\"), \"Department Name\"].mode()[0]"
   ]
  },
  {
   "cell_type": "code",
   "execution_count": 5,
   "metadata": {
    "scrolled": true
   },
   "outputs": [
    {
     "data": {
      "text/plain": [
       "[['Clothing ID', 1206, 0],\n",
       " ['Age', 77, 0],\n",
       " ['IDD', 39, 0],\n",
       " ['Title', 13994, 3810],\n",
       " ['Review Text', 22635, 845],\n",
       " ['Rating', 5, 0],\n",
       " ['Recommended IND', 2, 0],\n",
       " ['Feedback Count', 82, 0],\n",
       " ['Positive Feedback Count', 82, 0],\n",
       " ['Division ID', 4, 14],\n",
       " ['Division Name', 4, 14],\n",
       " ['Department ID', 8, 14],\n",
       " ['Department Name', 7, 14],\n",
       " ['Class ID', 33, 14],\n",
       " ['Class Name', 21, 14]]"
      ]
     },
     "execution_count": 5,
     "metadata": {},
     "output_type": "execute_result"
    }
   ],
   "source": [
    "# Extracting Missing Count and Unique Count by Column\n",
    "unique_count = []\n",
    "for x in df.columns:\n",
    "    unique_count.append([x,len(df[x].unique()),df[x].isnull().sum()])\n",
    "unique_count"
   ]
  },
  {
   "cell_type": "markdown",
   "metadata": {},
   "source": [
    "Many variables appear to be unnecessary, and may compromise the human subjects. Therefore, there are removed.\n",
    "\n",
    "Furthermore, even if \"IDD\" were identification keys, it would suggest that each individual published ten thousand reviews on average."
   ]
  },
  {
   "cell_type": "code",
   "execution_count": 6,
   "metadata": {
    "collapsed": true
   },
   "outputs": [],
   "source": [
    "# Encoding to untrackable integer\n",
    "df[\"Clothing ID\"]= df[\"Clothing ID\"].astype(\"category\").cat.codes\n",
    "\n",
    "# Dropping Variable Deemed Unworthy\n",
    "df.drop([\"Department ID\", \"Division ID\", \"Class ID\",\"Feedback Count\", \"IDD\"], axis = 1, inplace=True)"
   ]
  },
  {
   "cell_type": "markdown",
   "metadata": {},
   "source": [
    "Since Clothing ID may be used to track the data source, I encode it as a categorical interger that begins at 0. "
   ]
  },
  {
   "cell_type": "code",
   "execution_count": 7,
   "metadata": {
    "collapsed": true
   },
   "outputs": [],
   "source": [
    "# And Save\n",
    "df.to_csv(\"Women's Clothing E-Commerce Reviews.csv\")"
   ]
  },
  {
   "cell_type": "code",
   "execution_count": 8,
   "metadata": {},
   "outputs": [
    {
     "name": "stdout",
     "output_type": "stream",
     "text": [
      "Dataframe Dimension: 23486 Rows, 10 Columns\n"
     ]
    },
    {
     "data": {
      "text/html": [
       "<div>\n",
       "<style scoped>\n",
       "    .dataframe tbody tr th:only-of-type {\n",
       "        vertical-align: middle;\n",
       "    }\n",
       "\n",
       "    .dataframe tbody tr th {\n",
       "        vertical-align: top;\n",
       "    }\n",
       "\n",
       "    .dataframe thead th {\n",
       "        text-align: right;\n",
       "    }\n",
       "</style>\n",
       "<table border=\"1\" class=\"dataframe\">\n",
       "  <thead>\n",
       "    <tr style=\"text-align: right;\">\n",
       "      <th></th>\n",
       "      <th>Clothing ID</th>\n",
       "      <th>Age</th>\n",
       "      <th>Title</th>\n",
       "      <th>Review Text</th>\n",
       "      <th>Rating</th>\n",
       "      <th>Recommended IND</th>\n",
       "      <th>Positive Feedback Count</th>\n",
       "      <th>Division Name</th>\n",
       "      <th>Department Name</th>\n",
       "      <th>Class Name</th>\n",
       "    </tr>\n",
       "  </thead>\n",
       "  <tbody>\n",
       "    <tr>\n",
       "      <th>5144</th>\n",
       "      <td>863</td>\n",
       "      <td>41</td>\n",
       "      <td>Cute tee</td>\n",
       "      <td>Very flattering tee. nice details &amp; quality.\\r...</td>\n",
       "      <td>5</td>\n",
       "      <td>1</td>\n",
       "      <td>1</td>\n",
       "      <td>General</td>\n",
       "      <td>Tops</td>\n",
       "      <td>Knits</td>\n",
       "    </tr>\n",
       "    <tr>\n",
       "      <th>14388</th>\n",
       "      <td>1060</td>\n",
       "      <td>50</td>\n",
       "      <td>Perfect white pants</td>\n",
       "      <td>I love these pants purchased them in white the...</td>\n",
       "      <td>5</td>\n",
       "      <td>1</td>\n",
       "      <td>0</td>\n",
       "      <td>General Petite</td>\n",
       "      <td>Bottoms</td>\n",
       "      <td>Pants</td>\n",
       "    </tr>\n",
       "    <tr>\n",
       "      <th>5131</th>\n",
       "      <td>873</td>\n",
       "      <td>63</td>\n",
       "      <td>Great white top.</td>\n",
       "      <td>Finally, a white top that does not show every ...</td>\n",
       "      <td>5</td>\n",
       "      <td>1</td>\n",
       "      <td>2</td>\n",
       "      <td>General Petite</td>\n",
       "      <td>Tops</td>\n",
       "      <td>Knits</td>\n",
       "    </tr>\n",
       "    <tr>\n",
       "      <th>15136</th>\n",
       "      <td>890</td>\n",
       "      <td>35</td>\n",
       "      <td>Really really ridiculously good looking</td>\n",
       "      <td>I saw this sweater and just about died. i love...</td>\n",
       "      <td>5</td>\n",
       "      <td>1</td>\n",
       "      <td>2</td>\n",
       "      <td>General Petite</td>\n",
       "      <td>Tops</td>\n",
       "      <td>Fine gauge</td>\n",
       "    </tr>\n",
       "    <tr>\n",
       "      <th>6389</th>\n",
       "      <td>1036</td>\n",
       "      <td>33</td>\n",
       "      <td>Great fit, just one small prob</td>\n",
       "      <td>I like the jeans a lot. they're definitely ski...</td>\n",
       "      <td>4</td>\n",
       "      <td>1</td>\n",
       "      <td>0</td>\n",
       "      <td>General</td>\n",
       "      <td>Bottoms</td>\n",
       "      <td>Jeans</td>\n",
       "    </tr>\n",
       "    <tr>\n",
       "      <th>15325</th>\n",
       "      <td>1104</td>\n",
       "      <td>41</td>\n",
       "      <td>Absolutely love this</td>\n",
       "      <td>This is my fourth amadi piece from retailer.  ...</td>\n",
       "      <td>5</td>\n",
       "      <td>1</td>\n",
       "      <td>8</td>\n",
       "      <td>General</td>\n",
       "      <td>Dresses</td>\n",
       "      <td>Dresses</td>\n",
       "    </tr>\n",
       "    <tr>\n",
       "      <th>676</th>\n",
       "      <td>1059</td>\n",
       "      <td>60</td>\n",
       "      <td>Great material, awkward length</td>\n",
       "      <td>The material and construction of the pants are...</td>\n",
       "      <td>3</td>\n",
       "      <td>0</td>\n",
       "      <td>0</td>\n",
       "      <td>General</td>\n",
       "      <td>Bottoms</td>\n",
       "      <td>Pants</td>\n",
       "    </tr>\n",
       "  </tbody>\n",
       "</table>\n",
       "</div>"
      ],
      "text/plain": [
       "       Clothing ID  Age                                    Title  \\\n",
       "5144           863   41                                 Cute tee   \n",
       "14388         1060   50                      Perfect white pants   \n",
       "5131           873   63                         Great white top.   \n",
       "15136          890   35  Really really ridiculously good looking   \n",
       "6389          1036   33           Great fit, just one small prob   \n",
       "15325         1104   41                     Absolutely love this   \n",
       "676           1059   60           Great material, awkward length   \n",
       "\n",
       "                                             Review Text  Rating  \\\n",
       "5144   Very flattering tee. nice details & quality.\\r...       5   \n",
       "14388  I love these pants purchased them in white the...       5   \n",
       "5131   Finally, a white top that does not show every ...       5   \n",
       "15136  I saw this sweater and just about died. i love...       5   \n",
       "6389   I like the jeans a lot. they're definitely ski...       4   \n",
       "15325  This is my fourth amadi piece from retailer.  ...       5   \n",
       "676    The material and construction of the pants are...       3   \n",
       "\n",
       "       Recommended IND  Positive Feedback Count   Division Name  \\\n",
       "5144                 1                        1         General   \n",
       "14388                1                        0  General Petite   \n",
       "5131                 1                        2  General Petite   \n",
       "15136                1                        2  General Petite   \n",
       "6389                 1                        0         General   \n",
       "15325                1                        8         General   \n",
       "676                  0                        0         General   \n",
       "\n",
       "      Department Name  Class Name  \n",
       "5144             Tops       Knits  \n",
       "14388         Bottoms       Pants  \n",
       "5131             Tops       Knits  \n",
       "15136            Tops  Fine gauge  \n",
       "6389          Bottoms       Jeans  \n",
       "15325         Dresses     Dresses  \n",
       "676           Bottoms       Pants  "
      ]
     },
     "execution_count": 8,
     "metadata": {},
     "output_type": "execute_result"
    }
   ],
   "source": [
    "# Data Dimensions\n",
    "print(\"Dataframe Dimension: {} Rows, {} Columns\".format(*df.shape))\n",
    "df.sample(7)"
   ]
  },
  {
   "cell_type": "markdown",
   "metadata": {},
   "source": [
    "***\n",
    "## Introduction to Dataset\n",
    "\n",
    "Welcome. This is a Women’s Clothing E-Commerce dataset revolving on the written reviews by customers. Its eight supportive features offer a great environment to parse out the text through its multiple dimensions. Because this is real commercial data, it has been anonymized, and references to the company in the review text and body have been replaced with “retailer”."
   ]
  },
  {
   "cell_type": "markdown",
   "metadata": {},
   "source": [
    "## Variable Explanation\n",
    "\n",
    "This dataset includes 23486 rows and 10 feature variables. Each row corresponds to a customer review, and includes the variables:\n",
    "- **Clothing ID:** Integer Categorical variable that refers to the specific piece being reviewed.\n",
    "- **Age:** Positive Integer variable of the reviewers age.\n",
    "- **Title:** String variable for the title of the review.\n",
    "- **Review Text:** String variable for the review body.\n",
    "- **Rating:** Positive Ordinal Integer variable for the product score granted by the customer from 1 Worst, to 5 Best.\n",
    "- **Recommended IND:** Binary variable stating where the customer recommends the product where 1 is recommended, 0 is not recommended.\n",
    "- **Positive Feedback Count:** Positive Integer documenting the number of other customers who found this review positive. \n",
    "- **Division Name:** Categorical name of the product high level division.\n",
    "- **Department Name:** Categorical name of the product department name.\n",
    "- **Class Name:** Categorical name of the product class name.\n",
    "I look forward to come quality NLP!\n"
   ]
  }
 ],
 "metadata": {
  "kernelspec": {
   "display_name": "Python 3",
   "language": "python",
   "name": "python3"
  },
  "language_info": {
   "codemirror_mode": {
    "name": "ipython",
    "version": 3
   },
   "file_extension": ".py",
   "mimetype": "text/x-python",
   "name": "python",
   "nbconvert_exporter": "python",
   "pygments_lexer": "ipython3",
   "version": "3.5.4"
  }
 },
 "nbformat": 4,
 "nbformat_minor": 2
}
