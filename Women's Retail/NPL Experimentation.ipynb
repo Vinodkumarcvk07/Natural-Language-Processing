{
 "cells": [
  {
   "cell_type": "markdown",
   "metadata": {},
   "source": [
    "# Retail Project\n",
    "- Nicolas Brooks\n",
    "- Professor\n",
    "- Drexel University BUSN 499"
   ]
  },
  {
   "cell_type": "code",
   "execution_count": 2,
   "metadata": {
    "collapsed": true
   },
   "outputs": [],
   "source": [
    "import numpy as np\n",
    "import pandas as pd\n",
    "import nltk\n",
    "\n",
    "import matplotlib\n",
    "import matplotlib.pyplot as plt\n",
    "%matplotlib inline\n",
    "\n",
    "# Directory\n",
    "#from subprocess import check_output\n",
    "#print(check_output([\"ls\", \"../NLP\"]).decode(\"utf8\"))"
   ]
  },
  {
   "cell_type": "code",
   "execution_count": 3,
   "metadata": {},
   "outputs": [
    {
     "data": {
      "text/plain": [
       "['Sheet1']"
      ]
     },
     "execution_count": 3,
     "metadata": {},
     "output_type": "execute_result"
    }
   ],
   "source": [
    "# Read\n",
    "data = pd.ExcelFile(\"retail dataset.xlsx\")\n",
    "data.sheet_names"
   ]
  },
  {
   "cell_type": "code",
   "execution_count": 4,
   "metadata": {
    "collapsed": true,
    "scrolled": true
   },
   "outputs": [],
   "source": [
    "df = data.parse(\"Sheet1\", header=1)"
   ]
  },
  {
   "cell_type": "code",
   "execution_count": 5,
   "metadata": {
    "collapsed": true
   },
   "outputs": [],
   "source": [
    "df = df.drop([\"Unnamed: 18\", \"Unnamed: 19\", \"Unnamed: 20\", \"Unnamed: 21\",\"Unnamed: 22\",\"Unnamed: 23\",\"Unnamed: 24\",\"Unnamed: 25\",\"Unnamed: 26\"], axis = 1)"
   ]
  },
  {
   "cell_type": "code",
   "execution_count": 6,
   "metadata": {
    "scrolled": true
   },
   "outputs": [
    {
     "data": {
      "text/html": [
       "<div>\n",
       "<style>\n",
       "    .dataframe thead tr:only-child th {\n",
       "        text-align: right;\n",
       "    }\n",
       "\n",
       "    .dataframe thead th {\n",
       "        text-align: left;\n",
       "    }\n",
       "\n",
       "    .dataframe tbody tr th {\n",
       "        vertical-align: top;\n",
       "    }\n",
       "</style>\n",
       "<table border=\"1\" class=\"dataframe\">\n",
       "  <thead>\n",
       "    <tr style=\"text-align: right;\">\n",
       "      <th></th>\n",
       "      <th>STERLINGEXTERNALALIAS</th>\n",
       "      <th>AGE</th>\n",
       "      <th>IID</th>\n",
       "      <th>REVIEW_ID</th>\n",
       "      <th>TITLE</th>\n",
       "      <th>REVIEW_TEXT</th>\n",
       "      <th>RATING</th>\n",
       "      <th>RATING_RANGE</th>\n",
       "      <th>RECOMMENDED_IND</th>\n",
       "      <th>NUM_FEEDBACKS</th>\n",
       "      <th>NUM_POSITIVE_FEEDBACKS</th>\n",
       "      <th>NUM_NEGATIVE_FEEDBACKS</th>\n",
       "      <th>DIVISION_ID</th>\n",
       "      <th>DIVISION_NAME</th>\n",
       "      <th>DEPARTMENT_ID</th>\n",
       "      <th>DEPARTMENT_NAME</th>\n",
       "      <th>CLASS_ID</th>\n",
       "      <th>CLASS_NAME</th>\n",
       "    </tr>\n",
       "  </thead>\n",
       "  <tbody>\n",
       "    <tr>\n",
       "      <th>0</th>\n",
       "      <td>40175747</td>\n",
       "      <td>33</td>\n",
       "      <td>100008000000000</td>\n",
       "      <td>73990099</td>\n",
       "      <td>NaN</td>\n",
       "      <td>absolutely wonderful - silky and sexy and comf...</td>\n",
       "      <td>4</td>\n",
       "      <td>5</td>\n",
       "      <td>1</td>\n",
       "      <td>0</td>\n",
       "      <td>0</td>\n",
       "      <td>0</td>\n",
       "      <td>42.0</td>\n",
       "      <td>ANTHRO  INTIMATES (NA)</td>\n",
       "      <td>414.0</td>\n",
       "      <td>ANTHRO. WOMEN'S INTIMATE (NA)</td>\n",
       "      <td>4140.0</td>\n",
       "      <td>INTIMATES - ANTHRO (NA)</td>\n",
       "    </tr>\n",
       "    <tr>\n",
       "      <th>1</th>\n",
       "      <td>4130200000000</td>\n",
       "      <td>34</td>\n",
       "      <td>100000000000000</td>\n",
       "      <td>67591147</td>\n",
       "      <td>NaN</td>\n",
       "      <td>Love this dress!  It's sooo pretty.  I happene...</td>\n",
       "      <td>5</td>\n",
       "      <td>5</td>\n",
       "      <td>1</td>\n",
       "      <td>4</td>\n",
       "      <td>4</td>\n",
       "      <td>0</td>\n",
       "      <td>41.0</td>\n",
       "      <td>ANTHRO. WOMEN'S DIVISION (NA)</td>\n",
       "      <td>413.0</td>\n",
       "      <td>ANTHRO. WOMEN'S OTHER (NA)</td>\n",
       "      <td>4130.0</td>\n",
       "      <td>DRESSES - ANTHRO. (NA)</td>\n",
       "    </tr>\n",
       "    <tr>\n",
       "      <th>2</th>\n",
       "      <td>4130080000000</td>\n",
       "      <td>60</td>\n",
       "      <td>100000000000000</td>\n",
       "      <td>56579841</td>\n",
       "      <td>Some major design flaws</td>\n",
       "      <td>I had such high hopes for this dress and reall...</td>\n",
       "      <td>3</td>\n",
       "      <td>5</td>\n",
       "      <td>0</td>\n",
       "      <td>0</td>\n",
       "      <td>0</td>\n",
       "      <td>0</td>\n",
       "      <td>41.0</td>\n",
       "      <td>ANTHRO. WOMEN'S DIVISION (NA)</td>\n",
       "      <td>413.0</td>\n",
       "      <td>ANTHRO. WOMEN'S OTHER (NA)</td>\n",
       "      <td>4130.0</td>\n",
       "      <td>DRESSES - ANTHRO. (NA)</td>\n",
       "    </tr>\n",
       "    <tr>\n",
       "      <th>3</th>\n",
       "      <td>4123200000000</td>\n",
       "      <td>50</td>\n",
       "      <td>100001000000000</td>\n",
       "      <td>56445604</td>\n",
       "      <td>My Favorite Buy!</td>\n",
       "      <td>I love, love, love this jumpsuit. It's fun, fl...</td>\n",
       "      <td>5</td>\n",
       "      <td>5</td>\n",
       "      <td>1</td>\n",
       "      <td>0</td>\n",
       "      <td>0</td>\n",
       "      <td>0</td>\n",
       "      <td>49.0</td>\n",
       "      <td>ANTHRO. MISC. DIVISION (NA)</td>\n",
       "      <td>492.0</td>\n",
       "      <td>PETITES (NA)</td>\n",
       "      <td>4927.0</td>\n",
       "      <td>PANTS - PETITES (NA)</td>\n",
       "    </tr>\n",
       "    <tr>\n",
       "      <th>4</th>\n",
       "      <td>4110530000000</td>\n",
       "      <td>47</td>\n",
       "      <td>100001000000000</td>\n",
       "      <td>73214993</td>\n",
       "      <td>Flattering shirt</td>\n",
       "      <td>This shirt is very flattering to all due to th...</td>\n",
       "      <td>5</td>\n",
       "      <td>5</td>\n",
       "      <td>1</td>\n",
       "      <td>6</td>\n",
       "      <td>6</td>\n",
       "      <td>0</td>\n",
       "      <td>41.0</td>\n",
       "      <td>ANTHRO. WOMEN'S DIVISION (NA)</td>\n",
       "      <td>411.0</td>\n",
       "      <td>ANTHRO. WOMEN'S TOPS (NA)</td>\n",
       "      <td>4110.0</td>\n",
       "      <td>BLOUSES - ANTHRO. (NA)</td>\n",
       "    </tr>\n",
       "  </tbody>\n",
       "</table>\n",
       "</div>"
      ],
      "text/plain": [
       "  STERLINGEXTERNALALIAS  AGE              IID  REVIEW_ID  \\\n",
       "0              40175747   33  100008000000000   73990099   \n",
       "1         4130200000000   34  100000000000000   67591147   \n",
       "2         4130080000000   60  100000000000000   56579841   \n",
       "3         4123200000000   50  100001000000000   56445604   \n",
       "4         4110530000000   47  100001000000000   73214993   \n",
       "\n",
       "                     TITLE                                        REVIEW_TEXT  \\\n",
       "0                      NaN  absolutely wonderful - silky and sexy and comf...   \n",
       "1                      NaN  Love this dress!  It's sooo pretty.  I happene...   \n",
       "2  Some major design flaws  I had such high hopes for this dress and reall...   \n",
       "3         My Favorite Buy!  I love, love, love this jumpsuit. It's fun, fl...   \n",
       "4         Flattering shirt  This shirt is very flattering to all due to th...   \n",
       "\n",
       "   RATING  RATING_RANGE  RECOMMENDED_IND  NUM_FEEDBACKS  \\\n",
       "0       4             5                1              0   \n",
       "1       5             5                1              4   \n",
       "2       3             5                0              0   \n",
       "3       5             5                1              0   \n",
       "4       5             5                1              6   \n",
       "\n",
       "   NUM_POSITIVE_FEEDBACKS  NUM_NEGATIVE_FEEDBACKS  DIVISION_ID  \\\n",
       "0                       0                       0         42.0   \n",
       "1                       4                       0         41.0   \n",
       "2                       0                       0         41.0   \n",
       "3                       0                       0         49.0   \n",
       "4                       6                       0         41.0   \n",
       "\n",
       "                   DIVISION_NAME  DEPARTMENT_ID  \\\n",
       "0         ANTHRO  INTIMATES (NA)          414.0   \n",
       "1  ANTHRO. WOMEN'S DIVISION (NA)          413.0   \n",
       "2  ANTHRO. WOMEN'S DIVISION (NA)          413.0   \n",
       "3    ANTHRO. MISC. DIVISION (NA)          492.0   \n",
       "4  ANTHRO. WOMEN'S DIVISION (NA)          411.0   \n",
       "\n",
       "                 DEPARTMENT_NAME  CLASS_ID               CLASS_NAME  \n",
       "0  ANTHRO. WOMEN'S INTIMATE (NA)    4140.0  INTIMATES - ANTHRO (NA)  \n",
       "1     ANTHRO. WOMEN'S OTHER (NA)    4130.0   DRESSES - ANTHRO. (NA)  \n",
       "2     ANTHRO. WOMEN'S OTHER (NA)    4130.0   DRESSES - ANTHRO. (NA)  \n",
       "3                   PETITES (NA)    4927.0     PANTS - PETITES (NA)  \n",
       "4      ANTHRO. WOMEN'S TOPS (NA)    4110.0   BLOUSES - ANTHRO. (NA)  "
      ]
     },
     "execution_count": 6,
     "metadata": {},
     "output_type": "execute_result"
    }
   ],
   "source": [
    "df.head()"
   ]
  },
  {
   "cell_type": "code",
   "execution_count": 7,
   "metadata": {},
   "outputs": [
    {
     "data": {
      "text/html": [
       "<div>\n",
       "<style>\n",
       "    .dataframe thead tr:only-child th {\n",
       "        text-align: right;\n",
       "    }\n",
       "\n",
       "    .dataframe thead th {\n",
       "        text-align: left;\n",
       "    }\n",
       "\n",
       "    .dataframe tbody tr th {\n",
       "        vertical-align: top;\n",
       "    }\n",
       "</style>\n",
       "<table border=\"1\" class=\"dataframe\">\n",
       "  <thead>\n",
       "    <tr style=\"text-align: right;\">\n",
       "      <th></th>\n",
       "      <th>AGE</th>\n",
       "      <th>IID</th>\n",
       "      <th>REVIEW_ID</th>\n",
       "      <th>RATING</th>\n",
       "      <th>RATING_RANGE</th>\n",
       "      <th>RECOMMENDED_IND</th>\n",
       "      <th>NUM_FEEDBACKS</th>\n",
       "      <th>NUM_POSITIVE_FEEDBACKS</th>\n",
       "      <th>NUM_NEGATIVE_FEEDBACKS</th>\n",
       "      <th>DIVISION_ID</th>\n",
       "      <th>DEPARTMENT_ID</th>\n",
       "      <th>CLASS_ID</th>\n",
       "    </tr>\n",
       "  </thead>\n",
       "  <tbody>\n",
       "    <tr>\n",
       "      <th>count</th>\n",
       "      <td>23486.000000</td>\n",
       "      <td>2.348600e+04</td>\n",
       "      <td>2.348600e+04</td>\n",
       "      <td>23486.000000</td>\n",
       "      <td>23486.0</td>\n",
       "      <td>23486.000000</td>\n",
       "      <td>23486.000000</td>\n",
       "      <td>23486.000000</td>\n",
       "      <td>23486.0</td>\n",
       "      <td>23472.000000</td>\n",
       "      <td>23472.000000</td>\n",
       "      <td>23472.000000</td>\n",
       "    </tr>\n",
       "    <tr>\n",
       "      <th>mean</th>\n",
       "      <td>43.198544</td>\n",
       "      <td>1.000069e+14</td>\n",
       "      <td>6.514529e+07</td>\n",
       "      <td>4.196032</td>\n",
       "      <td>5.0</td>\n",
       "      <td>0.822362</td>\n",
       "      <td>2.535936</td>\n",
       "      <td>2.535936</td>\n",
       "      <td>0.0</td>\n",
       "      <td>43.831544</td>\n",
       "      <td>439.801508</td>\n",
       "      <td>4399.362986</td>\n",
       "    </tr>\n",
       "    <tr>\n",
       "      <th>std</th>\n",
       "      <td>12.279544</td>\n",
       "      <td>1.150606e+10</td>\n",
       "      <td>6.745848e+06</td>\n",
       "      <td>1.110031</td>\n",
       "      <td>0.0</td>\n",
       "      <td>0.382216</td>\n",
       "      <td>5.702202</td>\n",
       "      <td>5.702202</td>\n",
       "      <td>0.0</td>\n",
       "      <td>3.766613</td>\n",
       "      <td>37.979309</td>\n",
       "      <td>381.858922</td>\n",
       "    </tr>\n",
       "    <tr>\n",
       "      <th>min</th>\n",
       "      <td>18.000000</td>\n",
       "      <td>1.000000e+14</td>\n",
       "      <td>5.196655e+07</td>\n",
       "      <td>1.000000</td>\n",
       "      <td>5.0</td>\n",
       "      <td>0.000000</td>\n",
       "      <td>0.000000</td>\n",
       "      <td>0.000000</td>\n",
       "      <td>0.0</td>\n",
       "      <td>41.000000</td>\n",
       "      <td>411.000000</td>\n",
       "      <td>4110.000000</td>\n",
       "    </tr>\n",
       "    <tr>\n",
       "      <th>25%</th>\n",
       "      <td>34.000000</td>\n",
       "      <td>1.000000e+14</td>\n",
       "      <td>5.875902e+07</td>\n",
       "      <td>4.000000</td>\n",
       "      <td>5.0</td>\n",
       "      <td>1.000000</td>\n",
       "      <td>0.000000</td>\n",
       "      <td>0.000000</td>\n",
       "      <td>0.0</td>\n",
       "      <td>41.000000</td>\n",
       "      <td>411.000000</td>\n",
       "      <td>4113.000000</td>\n",
       "    </tr>\n",
       "    <tr>\n",
       "      <th>50%</th>\n",
       "      <td>41.000000</td>\n",
       "      <td>1.000010e+14</td>\n",
       "      <td>6.509622e+07</td>\n",
       "      <td>5.000000</td>\n",
       "      <td>5.0</td>\n",
       "      <td>1.000000</td>\n",
       "      <td>1.000000</td>\n",
       "      <td>1.000000</td>\n",
       "      <td>0.0</td>\n",
       "      <td>41.000000</td>\n",
       "      <td>413.000000</td>\n",
       "      <td>4130.000000</td>\n",
       "    </tr>\n",
       "    <tr>\n",
       "      <th>75%</th>\n",
       "      <td>52.000000</td>\n",
       "      <td>1.000080e+14</td>\n",
       "      <td>7.193795e+07</td>\n",
       "      <td>5.000000</td>\n",
       "      <td>5.0</td>\n",
       "      <td>1.000000</td>\n",
       "      <td>3.000000</td>\n",
       "      <td>3.000000</td>\n",
       "      <td>0.0</td>\n",
       "      <td>49.000000</td>\n",
       "      <td>492.000000</td>\n",
       "      <td>4921.000000</td>\n",
       "    </tr>\n",
       "    <tr>\n",
       "      <th>max</th>\n",
       "      <td>99.000000</td>\n",
       "      <td>1.000420e+14</td>\n",
       "      <td>7.517850e+07</td>\n",
       "      <td>5.000000</td>\n",
       "      <td>5.0</td>\n",
       "      <td>1.000000</td>\n",
       "      <td>122.000000</td>\n",
       "      <td>122.000000</td>\n",
       "      <td>0.0</td>\n",
       "      <td>49.000000</td>\n",
       "      <td>492.000000</td>\n",
       "      <td>4939.000000</td>\n",
       "    </tr>\n",
       "  </tbody>\n",
       "</table>\n",
       "</div>"
      ],
      "text/plain": [
       "                AGE           IID     REVIEW_ID        RATING  RATING_RANGE  \\\n",
       "count  23486.000000  2.348600e+04  2.348600e+04  23486.000000       23486.0   \n",
       "mean      43.198544  1.000069e+14  6.514529e+07      4.196032           5.0   \n",
       "std       12.279544  1.150606e+10  6.745848e+06      1.110031           0.0   \n",
       "min       18.000000  1.000000e+14  5.196655e+07      1.000000           5.0   \n",
       "25%       34.000000  1.000000e+14  5.875902e+07      4.000000           5.0   \n",
       "50%       41.000000  1.000010e+14  6.509622e+07      5.000000           5.0   \n",
       "75%       52.000000  1.000080e+14  7.193795e+07      5.000000           5.0   \n",
       "max       99.000000  1.000420e+14  7.517850e+07      5.000000           5.0   \n",
       "\n",
       "       RECOMMENDED_IND  NUM_FEEDBACKS  NUM_POSITIVE_FEEDBACKS  \\\n",
       "count     23486.000000   23486.000000            23486.000000   \n",
       "mean          0.822362       2.535936                2.535936   \n",
       "std           0.382216       5.702202                5.702202   \n",
       "min           0.000000       0.000000                0.000000   \n",
       "25%           1.000000       0.000000                0.000000   \n",
       "50%           1.000000       1.000000                1.000000   \n",
       "75%           1.000000       3.000000                3.000000   \n",
       "max           1.000000     122.000000              122.000000   \n",
       "\n",
       "       NUM_NEGATIVE_FEEDBACKS   DIVISION_ID  DEPARTMENT_ID      CLASS_ID  \n",
       "count                 23486.0  23472.000000   23472.000000  23472.000000  \n",
       "mean                      0.0     43.831544     439.801508   4399.362986  \n",
       "std                       0.0      3.766613      37.979309    381.858922  \n",
       "min                       0.0     41.000000     411.000000   4110.000000  \n",
       "25%                       0.0     41.000000     411.000000   4113.000000  \n",
       "50%                       0.0     41.000000     413.000000   4130.000000  \n",
       "75%                       0.0     49.000000     492.000000   4921.000000  \n",
       "max                       0.0     49.000000     492.000000   4939.000000  "
      ]
     },
     "execution_count": 7,
     "metadata": {},
     "output_type": "execute_result"
    }
   ],
   "source": [
    "df.describe()"
   ]
  },
  {
   "cell_type": "code",
   "execution_count": 8,
   "metadata": {
    "scrolled": true
   },
   "outputs": [
    {
     "data": {
      "text/html": [
       "<div>\n",
       "<style>\n",
       "    .dataframe thead tr:only-child th {\n",
       "        text-align: right;\n",
       "    }\n",
       "\n",
       "    .dataframe thead th {\n",
       "        text-align: left;\n",
       "    }\n",
       "\n",
       "    .dataframe tbody tr th {\n",
       "        vertical-align: top;\n",
       "    }\n",
       "</style>\n",
       "<table border=\"1\" class=\"dataframe\">\n",
       "  <thead>\n",
       "    <tr style=\"text-align: right;\">\n",
       "      <th></th>\n",
       "      <th>TITLE</th>\n",
       "      <th>REVIEW_TEXT</th>\n",
       "    </tr>\n",
       "  </thead>\n",
       "  <tbody>\n",
       "    <tr>\n",
       "      <th>0</th>\n",
       "      <td>NaN</td>\n",
       "      <td>absolutely wonderful - silky and sexy and comf...</td>\n",
       "    </tr>\n",
       "    <tr>\n",
       "      <th>1</th>\n",
       "      <td>NaN</td>\n",
       "      <td>Love this dress!  It's sooo pretty.  I happene...</td>\n",
       "    </tr>\n",
       "    <tr>\n",
       "      <th>2</th>\n",
       "      <td>Some major design flaws</td>\n",
       "      <td>I had such high hopes for this dress and reall...</td>\n",
       "    </tr>\n",
       "    <tr>\n",
       "      <th>3</th>\n",
       "      <td>My Favorite Buy!</td>\n",
       "      <td>I love, love, love this jumpsuit. It's fun, fl...</td>\n",
       "    </tr>\n",
       "    <tr>\n",
       "      <th>4</th>\n",
       "      <td>Flattering shirt</td>\n",
       "      <td>This shirt is very flattering to all due to th...</td>\n",
       "    </tr>\n",
       "    <tr>\n",
       "      <th>5</th>\n",
       "      <td>Not for the very petite</td>\n",
       "      <td>I love Tracy Reese dresses, but this one is no...</td>\n",
       "    </tr>\n",
       "    <tr>\n",
       "      <th>6</th>\n",
       "      <td>Cagrcoal shimmer fun</td>\n",
       "      <td>I aded this in my basket at hte last mintue to...</td>\n",
       "    </tr>\n",
       "    <tr>\n",
       "      <th>7</th>\n",
       "      <td>SHimmer, surprisingly goes with lots</td>\n",
       "      <td>I ordered this in carbon for store pick up, an...</td>\n",
       "    </tr>\n",
       "    <tr>\n",
       "      <th>8</th>\n",
       "      <td>Flattering</td>\n",
       "      <td>I love this dress. I usually get an XS but It ...</td>\n",
       "    </tr>\n",
       "    <tr>\n",
       "      <th>9</th>\n",
       "      <td>Such a fun dress!</td>\n",
       "      <td>I'm 5\"5' and 125 lbs. I ordered the S petite t...</td>\n",
       "    </tr>\n",
       "  </tbody>\n",
       "</table>\n",
       "</div>"
      ],
      "text/plain": [
       "                                  TITLE  \\\n",
       "0                                   NaN   \n",
       "1                                   NaN   \n",
       "2               Some major design flaws   \n",
       "3                      My Favorite Buy!   \n",
       "4                      Flattering shirt   \n",
       "5               Not for the very petite   \n",
       "6                  Cagrcoal shimmer fun   \n",
       "7  SHimmer, surprisingly goes with lots   \n",
       "8                            Flattering   \n",
       "9                     Such a fun dress!   \n",
       "\n",
       "                                         REVIEW_TEXT  \n",
       "0  absolutely wonderful - silky and sexy and comf...  \n",
       "1  Love this dress!  It's sooo pretty.  I happene...  \n",
       "2  I had such high hopes for this dress and reall...  \n",
       "3  I love, love, love this jumpsuit. It's fun, fl...  \n",
       "4  This shirt is very flattering to all due to th...  \n",
       "5  I love Tracy Reese dresses, but this one is no...  \n",
       "6  I aded this in my basket at hte last mintue to...  \n",
       "7  I ordered this in carbon for store pick up, an...  \n",
       "8  I love this dress. I usually get an XS but It ...  \n",
       "9  I'm 5\"5' and 125 lbs. I ordered the S petite t...  "
      ]
     },
     "execution_count": 8,
     "metadata": {},
     "output_type": "execute_result"
    }
   ],
   "source": [
    "df[[\"TITLE\",\"REVIEW_TEXT\"]] [:10]"
   ]
  },
  {
   "cell_type": "markdown",
   "metadata": {},
   "source": [
    "## Combined Text"
   ]
  },
  {
   "cell_type": "code",
   "execution_count": 9,
   "metadata": {
    "collapsed": true
   },
   "outputs": [],
   "source": [
    "txt = df.REVIEW_TEXT.str.lower().str.cat(sep=' ')"
   ]
  },
  {
   "cell_type": "code",
   "execution_count": 10,
   "metadata": {
    "scrolled": true
   },
   "outputs": [
    {
     "data": {
      "text/plain": [
       "'absolutely wonderful - silky and sexy and comfortable love this dress!  it\\'s sooo pretty.  i happened to find it in a store, and i\\'m glad i did bc i never would have ordered it online bc it\\'s petite.  i bought a petite and am 5\\'8\".  i love the length on me- hits just a little below the knee.  would definitely be a true midi on someone who is truly petite. i had such high hopes for this dress and really wanted it to work for me. i initially ordered the petite small (my usual size) but i found thi'"
      ]
     },
     "execution_count": 10,
     "metadata": {},
     "output_type": "execute_result"
    }
   ],
   "source": [
    "txt[:500]"
   ]
  },
  {
   "cell_type": "code",
   "execution_count": 11,
   "metadata": {
    "collapsed": true
   },
   "outputs": [],
   "source": [
    "import string\n",
    "import nltk\n",
    "from nltk.tokenize import RegexpTokenizer\n",
    "import re\n",
    "\n",
    "tokenizer = RegexpTokenizer(r'\\w+')\n",
    "words = tokenizer.tokenize(txt)"
   ]
  },
  {
   "cell_type": "code",
   "execution_count": 12,
   "metadata": {
    "collapsed": true
   },
   "outputs": [],
   "source": [
    "from nltk.corpus import stopwords\n",
    "stop_words = set(stopwords.words('english'))\n",
    "words = [w for w in words if not w in stop_words]"
   ]
  },
  {
   "cell_type": "code",
   "execution_count": 13,
   "metadata": {
    "collapsed": true
   },
   "outputs": [],
   "source": [
    "from nltk.stem import PorterStemmer\n",
    "ps = PorterStemmer()\n",
    "stem = [ps.stem(w) for w in words]"
   ]
  },
  {
   "cell_type": "code",
   "execution_count": 14,
   "metadata": {},
   "outputs": [
    {
     "data": {
      "text/plain": [
       "[('dress', 12187),\n",
       " ('fit', 11512),\n",
       " ('love', 11395),\n",
       " ('size', 10721),\n",
       " ('look', 9354),\n",
       " ('top', 8375),\n",
       " ('wear', 8075),\n",
       " ('like', 7875),\n",
       " ('color', 7300),\n",
       " ('great', 6118),\n",
       " ('5', 5550),\n",
       " ('would', 5109),\n",
       " ('order', 5014),\n",
       " ('fabric', 4893),\n",
       " ('small', 4753)]"
      ]
     },
     "execution_count": 14,
     "metadata": {},
     "output_type": "execute_result"
    }
   ],
   "source": [
    "stem_dist = nltk.FreqDist(stem)\n",
    "stem_dist.most_common(15)"
   ]
  },
  {
   "cell_type": "code",
   "execution_count": 15,
   "metadata": {
    "collapsed": true
   },
   "outputs": [],
   "source": [
    "word_dist = nltk.FreqDist(words)"
   ]
  },
  {
   "cell_type": "code",
   "execution_count": 16,
   "metadata": {},
   "outputs": [
    {
     "name": "stdout",
     "output_type": "stream",
     "text": [
      "      Word  Frequency\n",
      "0    dress      10567\n",
      "1     love       8951\n",
      "2     size       8772\n",
      "3      top       7418\n",
      "4      fit       7325\n",
      "5     like       7149\n",
      "6     wear       6439\n",
      "7    great       6117\n",
      "8        5       5550\n",
      "9    would       5109\n",
      "10  fabric       4798\n",
      "11   small       4729\n",
      "12   color       4605\n",
      "13    look       4039\n",
      "14  really       3925\n",
      "============================================================\n"
     ]
    }
   ],
   "source": [
    "top_N = 15\n",
    "rslt = pd.DataFrame(word_dist.most_common(top_N),\n",
    "                    columns=['Word', 'Frequency'])\n",
    "print(rslt)\n",
    "print('=' * 60)"
   ]
  },
  {
   "cell_type": "code",
   "execution_count": 17,
   "metadata": {},
   "outputs": [
    {
     "data": {
      "text/plain": [
       "<matplotlib.axes._subplots.AxesSubplot at 0x1912c925c18>"
      ]
     },
     "execution_count": 17,
     "metadata": {},
     "output_type": "execute_result"
    },
    {
     "data": {
      "image/png": "[encoded data removed]",
      "text/plain": [
       "<matplotlib.figure.Figure at 0x1912c9252e8>"
      ]
     },
     "metadata": {},
     "output_type": "display_data"
    }
   ],
   "source": [
    "rslt = pd.DataFrame(word_dist.most_common(top_N),\n",
    "                    columns=['Word', 'Frequency']).set_index('Word')\n",
    "\n",
    "matplotlib.style.use('ggplot')\n",
    "\n",
    "rslt.plot.bar(rot=0)"
   ]
  },
  {
   "cell_type": "markdown",
   "metadata": {},
   "source": [
    "## Tokenize"
   ]
  },
  {
   "cell_type": "code",
   "execution_count": 18,
   "metadata": {},
   "outputs": [
    {
     "name": "stdout",
     "output_type": "stream",
     "text": [
      "absolutely wonderful - silky and sexy and comfortable\n"
     ]
    },
    {
     "data": {
      "text/plain": [
       "pandas.core.series.Series"
      ]
     },
     "execution_count": 18,
     "metadata": {},
     "output_type": "execute_result"
    }
   ],
   "source": [
    "df['text'] = df.REVIEW_TEXT.astype(str)\n",
    "print(df['text'][0])\n",
    "type(df['text'])"
   ]
  },
  {
   "cell_type": "code",
   "execution_count": 19,
   "metadata": {
    "collapsed": true
   },
   "outputs": [],
   "source": [
    "df['tokens'] = df.apply(lambda row: nltk.word_tokenize(row['text']), axis=1)\n",
    "df['tokens'] = df.tokens.apply(lambda x: [w.lower() for w in x])"
   ]
  },
  {
   "cell_type": "code",
   "execution_count": 20,
   "metadata": {},
   "outputs": [
    {
     "data": {
      "text/plain": [
       "0    [absolutely, wonderful, -, silky, and, sexy, a...\n",
       "1    [love, this, dress, !, it, 's, sooo, pretty, ....\n",
       "2    [i, had, such, high, hopes, for, this, dress, ...\n",
       "3    [i, love, ,, love, ,, love, this, jumpsuit, .,...\n",
       "4    [this, shirt, is, very, flattering, to, all, d...\n",
       "Name: tokens, dtype: object"
      ]
     },
     "execution_count": 20,
     "metadata": {},
     "output_type": "execute_result"
    }
   ],
   "source": [
    "df['tokens'][:5]"
   ]
  },
  {
   "cell_type": "markdown",
   "metadata": {},
   "source": [
    "## Stopword"
   ]
  },
  {
   "cell_type": "code",
   "execution_count": 20,
   "metadata": {
    "collapsed": true
   },
   "outputs": [],
   "source": [
    "from nltk.corpus import stopwords\n",
    "stop_words = set(stopwords.words('english'))"
   ]
  },
  {
   "cell_type": "code",
   "execution_count": 21,
   "metadata": {
    "collapsed": true
   },
   "outputs": [],
   "source": [
    "df[\"filtered\"]= df['tokens'].apply(lambda x:[w for w in x if not w in stop_words])"
   ]
  },
  {
   "cell_type": "code",
   "execution_count": 22,
   "metadata": {},
   "outputs": [
    {
     "data": {
      "text/plain": [
       "0    [absolutely, wonderful, -, silky, sexy, comfor...\n",
       "1    [love, dress, !, 's, sooo, pretty, ., happened...\n",
       "2    [high, hopes, dress, really, wanted, work, ., ...\n",
       "3    [love, ,, love, ,, love, jumpsuit, ., 's, fun,...\n",
       "4    [shirt, flattering, due, adjustable, front, ti...\n",
       "Name: filtered, dtype: object"
      ]
     },
     "execution_count": 22,
     "metadata": {},
     "output_type": "execute_result"
    }
   ],
   "source": [
    "df['filtered'][:5]"
   ]
  },
  {
   "cell_type": "markdown",
   "metadata": {},
   "source": [
    "## Stemming"
   ]
  },
  {
   "cell_type": "code",
   "execution_count": 23,
   "metadata": {
    "collapsed": true
   },
   "outputs": [],
   "source": [
    "from nltk.stem import PorterStemmer\n",
    "ps = PorterStemmer()"
   ]
  },
  {
   "cell_type": "code",
   "execution_count": 24,
   "metadata": {},
   "outputs": [
    {
     "data": {
      "text/plain": [
       "['absolutely', 'wonderful', '-', 'silky', 'sexy', 'comfortable']"
      ]
     },
     "execution_count": 24,
     "metadata": {},
     "output_type": "execute_result"
    }
   ],
   "source": [
    "df[\"filtered\"][0]"
   ]
  },
  {
   "cell_type": "code",
   "execution_count": 31,
   "metadata": {},
   "outputs": [
    {
     "data": {
      "text/plain": [
       "['absolut', 'wonder', '-', 'silki', 'sexi', 'comfort']"
      ]
     },
     "execution_count": 31,
     "metadata": {},
     "output_type": "execute_result"
    }
   ],
   "source": [
    "[ps.stem(w) for w in df[\"filtered\"][0]]"
   ]
  },
  {
   "cell_type": "code",
   "execution_count": 29,
   "metadata": {
    "scrolled": false
   },
   "outputs": [
    {
     "name": "stdout",
     "output_type": "stream",
     "text": [
      "absolut\n",
      "wonder\n",
      "-\n",
      "silki\n",
      "sexi\n",
      "comfort\n"
     ]
    }
   ],
   "source": [
    "for w in df[\"filtered\"][0]:\n",
    "    print(ps.stem(w))"
   ]
  },
  {
   "cell_type": "code",
   "execution_count": 33,
   "metadata": {
    "collapsed": true
   },
   "outputs": [],
   "source": [
    "df['stemmed'] = df[\"filtered\"].apply(lambda x: [ps.stem(w) for w in x])"
   ]
  },
  {
   "cell_type": "code",
   "execution_count": 36,
   "metadata": {},
   "outputs": [
    {
     "data": {
      "text/plain": [
       "0            [absolut, wonder, -, silki, sexi, comfort]\n",
       "1     [love, dress, !, 's, sooo, pretti, ., happen, ...\n",
       "2     [high, hope, dress, realli, want, work, ., ini...\n",
       "3     [love, ,, love, ,, love, jumpsuit, ., 's, fun,...\n",
       "4     [shirt, flatter, due, adjust, front, tie, ., p...\n",
       "5     [love, traci, rees, dress, ,, one, petit, ., 5...\n",
       "6     [ade, basket, hte, last, mintu, see, would, lo...\n",
       "7     [order, carbon, store, pick, ,, ton, stuff, (,...\n",
       "8     [love, dress, ., usual, get, xs, run, littl, s...\n",
       "9     ['m, 5, '', 5, ', 125, lb, ., order, petit, ma...\n",
       "10    [dress, run, small, esp, zipper, area, run, .,...\n",
       "11              [dress, perfect, !, pretti, flatter, .]\n",
       "12    [find, reliant, review, written, savvi, shoppe...\n",
       "13    [bought, black, xs, go, larkspur, midi, dress,...\n",
       "14    [nice, choic, holiday, gather, ., like, length...\n",
       "Name: stemmed, dtype: object"
      ]
     },
     "execution_count": 36,
     "metadata": {},
     "output_type": "execute_result"
    }
   ],
   "source": [
    "df['stemmed'][:15]"
   ]
  },
  {
   "cell_type": "markdown",
   "metadata": {},
   "source": [
    "## To Do\n",
    "\n",
    "- Categorize by Rank\n",
    "- Combine all reviews and analyze"
   ]
  }
 ],
 "metadata": {
  "kernelspec": {
   "display_name": "Python [default]",
   "language": "python",
   "name": "python3"
  },
  "language_info": {
   "codemirror_mode": {
    "name": "ipython",
    "version": 3
   },
   "file_extension": ".py",
   "mimetype": "text/x-python",
   "name": "python",
   "nbconvert_exporter": "python",
   "pygments_lexer": "ipython3",
   "version": "3.6.1"
  }
 },
 "nbformat": 4,
 "nbformat_minor": 2
}
