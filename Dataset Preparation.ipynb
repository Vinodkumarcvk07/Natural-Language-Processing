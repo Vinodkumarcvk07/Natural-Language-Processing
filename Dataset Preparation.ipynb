{
 "cells": [
  {
   "cell_type": "markdown",
   "metadata": {},
   "source": [
    "## Preparing the Retail Dataset for Kaggle Usuage"
   ]
  },
  {
   "cell_type": "code",
   "execution_count": 1,
   "metadata": {
    "collapsed": true
   },
   "outputs": [],
   "source": [
    "import pandas as pd"
   ]
  },
  {
   "cell_type": "code",
   "execution_count": 2,
   "metadata": {
    "collapsed": true
   },
   "outputs": [],
   "source": [
    "data = pd.ExcelFile(\"Women's Retail/retail dataset.xlsx\")\n",
    "df = data.parse(\"Sheet1\", header=1)\n",
    "df = df.drop([\"Unnamed: 18\", \"Unnamed: 19\", \"Unnamed: 20\", \"Unnamed: 21\",\"Unnamed: 22\",\"Unnamed: 23\",\"Unnamed: 24\",\"Unnamed: 25\",\"Unnamed: 26\"], axis = 1)\n",
    "df = df.drop([\"REVIEW_ID\", \"RATING_RANGE\", \"NUM_NEGATIVE_FEEDBACKS\"], axis = 1)\n",
    "\n",
    "# Anonymize\n",
    "df[\"DIVISION_NAME\"].replace({'ANTHRO  INTIMATES (NA)': \"Initmates\",\n",
    "                             \"ANTHRO. WOMEN'S DIVISION (NA)\":\"Women\",\n",
    "                             \"ANTHRO. MISC. DIVISION (NA)\":\"Misc\"},inplace=True)\n",
    "df[\"DEPARTMENT_NAME\"]= df[\"DEPARTMENT_NAME\"].str.replace(\n",
    "    r\"(WOMEN'S)|(NA)|[()]|(ANTHRO.)\", '').str.strip().str.lower().str.capitalize()\n",
    "df[\"CLASS_NAME\"]= df[\"CLASS_NAME\"].str.replace(\n",
    "    r\"[-]|(NA)|[()]|(ANTHRO.)\", '').str.strip().str.lower().str.capitalize()\n",
    "\n",
    "df.columns = [\"Sterling External Alias\", \"Age\", \"IDD\",\"Title\",\"Review Text\",\"Rating\",\n",
    "              \"Recommended IND\",\"Feedback Count\",\"Positive Feedback Count\",\"Division ID\",\"Division Name\",\n",
    "              \"Department ID\",\"Department Name\",\"Class ID\",\"Class Name\"]"
   ]
  },
  {
   "cell_type": "markdown",
   "metadata": {},
   "source": [
    "### **Code Explanation:** <br>\n",
    "The Path section changes the working directory of the python program to where the data is located. The Read Data section uses a Pandas function to read and parse the first sheet of the excel formatted retail dataset. Then, blank columns are removed, aswell as the unused variables “REVIEW_ID” and “RATING_RANGE”. Finally, the Transform Depedent Variable to Binary section creates a new variable.\n",
    "\n",
    "Next, the comments themselves must be cleaned and anonymized.\n",
    "\n",
    "**Regular Expressions:**\n",
    "- Replace() : This command swaps every occurence of the first dictionary key with the dictionary value.\n",
    "- str.strip() : This command removes white space before and after the start of text.\n",
    "- str.lower() : This command lower cases all the text.\n",
    "- str.capitaize() : This command capitalizes the first character of sentences.\n",
    "\n",
    "**Regex Compilers:**\n",
    "- r\" \" : The \"r\" signifies a string object, so that /, \\, and ' dont get interpret as they generally do in python.\n",
    "- r\"(WOMEN'S)|(NA)|[()]|(ANTHRO.)\" : Targets strings that match those in the brackets (blabla). The | is an AND argument, enabling the chaining of multiple string targets. Finally, all these string parts are replaces with \"\" ; nothing.\n",
    "\n",
    "The last part of the code renames the columns into a cleaner format. Infact I could have use list comprehension and regular expressions for this part aswell, but simpler just hard fix it!\n",
    "\n",
    "***\n",
    "\n",
    "### **Code Interpretation: Variables and Processing:** <br>\n",
    "The first step is to address the the variables and dive into the pre-processing steps necessary to turn raw text into valuable output. This dataset’s notable variables include: review title and review body of clothing product, rating assigned to the product, age of customer, whether the product was recommended, and finally department and division.\n",
    "\n",
    "In order to facilitate the use of sentiment analysis, a new boolean variable is created to categories good and bad reviews. All reviews with a rating of 3 and over, were deemed good, and reviews under 3 deemed bad. This step is especially important for the use of Naive Bayes’ supervised learning algorithm, since it requires a clear binary label to train upon."
   ]
  },
  {
   "cell_type": "code",
   "execution_count": 3,
   "metadata": {
    "collapsed": true
   },
   "outputs": [],
   "source": [
    "df = df.drop([\"Department ID\", \"Division ID\", \"Class ID\",\"Feedback Count\"], axis = 1)\n",
    "df.drop([\"Sterling External Alias\",\"IDD\"], axis=1, inplace=True)\n",
    "#df.set_index([\"Sterling External Alias\",\"IDD\"], inplace=True)\n",
    "df.to_csv(\"Women's Clothing E-Commerce Reviews.csv\")"
   ]
  },
  {
   "cell_type": "code",
   "execution_count": 4,
   "metadata": {},
   "outputs": [
    {
     "data": {
      "text/html": [
       "<div>\n",
       "<style>\n",
       "    .dataframe thead tr:only-child th {\n",
       "        text-align: right;\n",
       "    }\n",
       "\n",
       "    .dataframe thead th {\n",
       "        text-align: left;\n",
       "    }\n",
       "\n",
       "    .dataframe tbody tr th {\n",
       "        vertical-align: top;\n",
       "    }\n",
       "</style>\n",
       "<table border=\"1\" class=\"dataframe\">\n",
       "  <thead>\n",
       "    <tr style=\"text-align: right;\">\n",
       "      <th></th>\n",
       "      <th>Age</th>\n",
       "      <th>Title</th>\n",
       "      <th>Review Text</th>\n",
       "      <th>Rating</th>\n",
       "      <th>Recommended IND</th>\n",
       "      <th>Positive Feedback Count</th>\n",
       "      <th>Division Name</th>\n",
       "      <th>Department Name</th>\n",
       "      <th>Class Name</th>\n",
       "    </tr>\n",
       "  </thead>\n",
       "  <tbody>\n",
       "    <tr>\n",
       "      <th>7471</th>\n",
       "      <td>50</td>\n",
       "      <td>NaN</td>\n",
       "      <td>this is a beautiful sweater that i wanted to l...</td>\n",
       "      <td>3</td>\n",
       "      <td>0</td>\n",
       "      <td>7</td>\n",
       "      <td>Misc</td>\n",
       "      <td>Petites</td>\n",
       "      <td>Fine gauge  petites</td>\n",
       "    </tr>\n",
       "    <tr>\n",
       "      <th>3909</th>\n",
       "      <td>53</td>\n",
       "      <td>NaN</td>\n",
       "      <td>NaN</td>\n",
       "      <td>1</td>\n",
       "      <td>0</td>\n",
       "      <td>0</td>\n",
       "      <td>Women</td>\n",
       "      <td>Trend</td>\n",
       "      <td>Trend</td>\n",
       "    </tr>\n",
       "    <tr>\n",
       "      <th>20726</th>\n",
       "      <td>42</td>\n",
       "      <td>Summer staple</td>\n",
       "      <td>I bought this in white at my local store. Grea...</td>\n",
       "      <td>5</td>\n",
       "      <td>1</td>\n",
       "      <td>0</td>\n",
       "      <td>Women</td>\n",
       "      <td>Tops</td>\n",
       "      <td>Cut and sew knits</td>\n",
       "    </tr>\n",
       "    <tr>\n",
       "      <th>16355</th>\n",
       "      <td>30</td>\n",
       "      <td>gorgeous versatile skirt</td>\n",
       "      <td>I went to the Anthro store to look for an outf...</td>\n",
       "      <td>5</td>\n",
       "      <td>1</td>\n",
       "      <td>0</td>\n",
       "      <td>Misc</td>\n",
       "      <td>Petites</td>\n",
       "      <td>Skirts  petites</td>\n",
       "    </tr>\n",
       "    <tr>\n",
       "      <th>15352</th>\n",
       "      <td>66</td>\n",
       "      <td>well designed</td>\n",
       "      <td>Love Cloth and Stone. This dress looks and fit...</td>\n",
       "      <td>5</td>\n",
       "      <td>1</td>\n",
       "      <td>13</td>\n",
       "      <td>Misc</td>\n",
       "      <td>Petites</td>\n",
       "      <td>Dresses  petites</td>\n",
       "    </tr>\n",
       "    <tr>\n",
       "      <th>6060</th>\n",
       "      <td>40</td>\n",
       "      <td>NaN</td>\n",
       "      <td>This is my favorite purchase so far! I am in l...</td>\n",
       "      <td>5</td>\n",
       "      <td>1</td>\n",
       "      <td>0</td>\n",
       "      <td>Women</td>\n",
       "      <td>Bottoms</td>\n",
       "      <td>Pants</td>\n",
       "    </tr>\n",
       "    <tr>\n",
       "      <th>4514</th>\n",
       "      <td>31</td>\n",
       "      <td>Classic and Comfortable</td>\n",
       "      <td>Love this dress so much. It's super comfortabl...</td>\n",
       "      <td>5</td>\n",
       "      <td>1</td>\n",
       "      <td>0</td>\n",
       "      <td>Women</td>\n",
       "      <td>Other</td>\n",
       "      <td>Dresses</td>\n",
       "    </tr>\n",
       "  </tbody>\n",
       "</table>\n",
       "</div>"
      ],
      "text/plain": [
       "       Age                     Title  \\\n",
       "7471    50                       NaN   \n",
       "3909    53                       NaN   \n",
       "20726   42             Summer staple   \n",
       "16355   30  gorgeous versatile skirt   \n",
       "15352   66             well designed   \n",
       "6060    40                       NaN   \n",
       "4514    31   Classic and Comfortable   \n",
       "\n",
       "                                             Review Text  Rating  \\\n",
       "7471   this is a beautiful sweater that i wanted to l...       3   \n",
       "3909                                                 NaN       1   \n",
       "20726  I bought this in white at my local store. Grea...       5   \n",
       "16355  I went to the Anthro store to look for an outf...       5   \n",
       "15352  Love Cloth and Stone. This dress looks and fit...       5   \n",
       "6060   This is my favorite purchase so far! I am in l...       5   \n",
       "4514   Love this dress so much. It's super comfortabl...       5   \n",
       "\n",
       "       Recommended IND  Positive Feedback Count Division Name Department Name  \\\n",
       "7471                 0                        7          Misc         Petites   \n",
       "3909                 0                        0         Women           Trend   \n",
       "20726                1                        0         Women            Tops   \n",
       "16355                1                        0          Misc         Petites   \n",
       "15352                1                       13          Misc         Petites   \n",
       "6060                 1                        0         Women         Bottoms   \n",
       "4514                 1                        0         Women           Other   \n",
       "\n",
       "                Class Name  \n",
       "7471   Fine gauge  petites  \n",
       "3909                 Trend  \n",
       "20726    Cut and sew knits  \n",
       "16355      Skirts  petites  \n",
       "15352     Dresses  petites  \n",
       "6060                 Pants  \n",
       "4514               Dresses  "
      ]
     },
     "execution_count": 4,
     "metadata": {},
     "output_type": "execute_result"
    }
   ],
   "source": [
    "df.sample(7)"
   ]
  },
  {
   "cell_type": "markdown",
   "metadata": {},
   "source": [
    "## Introduction to Dataset"
   ]
  },
  {
   "cell_type": "code",
   "execution_count": null,
   "metadata": {
    "collapsed": true
   },
   "outputs": [],
   "source": []
  },
  {
   "cell_type": "code",
   "execution_count": null,
   "metadata": {
    "collapsed": true
   },
   "outputs": [],
   "source": []
  },
  {
   "cell_type": "markdown",
   "metadata": {},
   "source": [
    "## Variable Explanation"
   ]
  },
  {
   "cell_type": "code",
   "execution_count": null,
   "metadata": {
    "collapsed": true
   },
   "outputs": [],
   "source": []
  },
  {
   "cell_type": "code",
   "execution_count": null,
   "metadata": {
    "collapsed": true
   },
   "outputs": [],
   "source": []
  }
 ],
 "metadata": {
  "kernelspec": {
   "display_name": "Python 3",
   "language": "python",
   "name": "python3"
  },
  "language_info": {
   "codemirror_mode": {
    "name": "ipython",
    "version": 3
   },
   "file_extension": ".py",
   "mimetype": "text/x-python",
   "name": "python",
   "nbconvert_exporter": "python",
   "pygments_lexer": "ipython3",
   "version": "3.5.4"
  }
 },
 "nbformat": 4,
 "nbformat_minor": 2
}
