{
 "cells": [
  {
   "cell_type": "markdown",
   "metadata": {},
   "source": [
    "# Women's Clothing E-Commerce with Natural Language Processing \n",
    "_by Nick \"Upping his game for 2018\" Brooks, Janurary 2018_\n",
    "\n",
    "- [**Github**](https://github.com/nicapotato)\n",
    "- [**Kaggle**](https://www.kaggle.com/nicapotato/)\n",
    "- [**Linkedin**](https://www.linkedin.com/in/nickbrooks7)\n",
    "\n",
    "***\n",
    "\n",
    "**Programming Language:** Python 3.5 in the Jupyter Notebook Environment\n",
    "\n",
    "**Textbook Resources Used:** <br>\n",
    "- Swamynathan, Manohar. Mastering Machine Learning with Python in Six Steps: a Practical\n",
    "- Implementation Guide to Predictive Data Analytics Using Python. Apress, 2017.\n",
    "- Bird, Steven. Natural Language Processing with Python. O&#39;Reilly Media, 2016.\n",
    "\n",
    "**Code Navigation:** <br>\n",
    "In the code, text after hastags (#) are supportive explanations, not executed as code.\n",
    "Indented line signifies code is part of larger function or loop. Not standalone. Furthermore,\n",
    "functions are used in order to facilitate the simplicity and exploratory process of the code.\n",
    "Code: Packages Used\n",
    "\n",
    "# Tables of Content:\n",
    "\n",
    "**1. [Introduction](#Introduction)** <br>\n",
    "**2. [Univariate Distribution](#Univariate)** <br>\n",
    "**3. [Multivariate Distribution](#Multivariate)** <br>\n",
    "\t- 3.1 Categorical Variable by Categorical Variable\n",
    "\t- 3.2 Continuous Variable by Categorical Variable\n",
    "\t- 3.3 Continuous Variables  on Continuous Variables\n",
    "\t- 3.4 Percentage Standardize Distribution Plots\n",
    "    \n",
    "**4. [Multivariate Analysis](#Multianalysis)** <br>\n",
    "\t- 4.1 In-Depth Simple Linear Regression Analysis for Age mean and Recommended Likelihood    \n",
    "\t- 4.2 Residual Visualization [Like found in R Studio]\n",
    "**5. [Working with Text](#Text)** <br>\n",
    "\t- 5.1 Text Pre-Processing\n",
    "\t- 5.2 Sentiment Analysis\n",
    "**5. [Sentiment Analysis](#Sentiment Analysis)** <br>\n",
    "**6. [Word Distribution and Word Cloud](#Word Distribution and Word Cloud)** <br>\n",
    "**7. [N Grams by Recommended Feature](#NGRAM)** <br>\n",
    "**8. [Supervised Learning](#Supervised Learning)** <br>\n",
    "\t- 8.1 Naive Bayes\n",
    "**9. [Word2Vec](#Word2Vec)** <br>\n",
    "\n",
    "\n",
    "# **1. Introduction:** <a id=\"Introduction\"></a> <br>\n",
    "This notebook is concerned with using the Python programming language and Natural Language Processing technology to explore trends in the customer reviews from an anonymized women’s clothing E-commerce platform, and extract actionable plans to improve its online e-commerce. The data is a collection of 22641 Rows and 10 column variables. Each row includes a written comment as well as additional customer information. This analysis will focus on using Natural Language techniques to find broad trends in the written thoughts of the customers. The total number of unique words in the dataset is 9810. \n",
    "\n",
    "My goal is to get to understand what it is the customers appreciate and dislike about their purchases. To reach this goal, I conduct an observational study of this sizable dataset, first by understanding the characteristics of individual features, and ramping the complexity of the analysis once a proper target is envisioned. \n",
    "\n",
    "\n",
    "# Summarized Findings:\n"
   ]
  },
  {
   "cell_type": "code",
   "execution_count": 1,
   "metadata": {},
   "outputs": [
    {
     "name": "stderr",
     "output_type": "stream",
     "text": [
      "/Users/nicapotato/anaconda/lib/python3.6/site-packages/statsmodels/compat/pandas.py:56: FutureWarning: The pandas.core.datetools module is deprecated and will be removed in a future version. Please use the pandas.tseries module instead.\n",
      "  from pandas.core import datetools\n",
      "/Users/nicapotato/anaconda/lib/python3.6/site-packages/nltk/twitter/__init__.py:20: UserWarning: The twython library has not been installed. Some functionality from the twitter package will not be available.\n",
      "  warnings.warn(\"The twython library has not been installed. \"\n"
     ]
    }
   ],
   "source": [
    "# General\n",
    "import numpy as np\n",
    "import pandas as pd\n",
    "import nltk\n",
    "import random\n",
    "import os\n",
    "from os import path\n",
    "from PIL import Image\n",
    "\n",
    "# Visualization\n",
    "import matplotlib as mpl\n",
    "import matplotlib.pyplot as plt\n",
    "import seaborn as sns\n",
    "%matplotlib inline\n",
    "from subprocess import check_output\n",
    "from wordcloud import WordCloud, STOPWORDS\n",
    "\n",
    "# Set Plot Theme\n",
    "sns.set_palette([\n",
    "    \"#30a2da\",\n",
    "    \"#fc4f30\",\n",
    "    \"#e5ae38\",\n",
    "    \"#6d904f\",\n",
    "    \"#8b8b8b\",\n",
    "])\n",
    "# Alternate # plt.style.use('fivethirtyeight')\n",
    "\n",
    "# Pre-Processing\n",
    "import string\n",
    "from nltk.tokenize import RegexpTokenizer\n",
    "from nltk.corpus import stopwords\n",
    "import re\n",
    "from nltk.stem import PorterStemmer\n",
    "\n",
    "# Modeling\n",
    "import statsmodels.api as sm\n",
    "from nltk.sentiment.vader import SentimentIntensityAnalyzer\n",
    "from nltk.sentiment.util import *\n",
    "from nltk.util import ngrams\n",
    "from collections import Counter\n",
    "from gensim.models import word2vec\n",
    "\n",
    "# Warnings\n",
    "# import warnings\n",
    "# warnings.filterwarnings('ignore')"
   ]
  },
  {
   "cell_type": "markdown",
   "metadata": {},
   "source": [
    "**Code Explanation and Reasoning:** <br>\n",
    "These packages are seperated in four categories: *General, Visualization, Pre-Processing, and Modeling*.\n",
    "\n",
    "The General category includes the basic data manipulation tools for scientific computation (`numpy`), dataframes (`pandas`), Natural Language Processing (`NLTK`), path directory manipulation (`os`), and image saving (`PIL`).\n",
    "\n",
    "The Visualiation section enables the creation of simple graphics (`matplotlib`, `seaborn`), aswell as `wordcloud`'s text frequency visualization.\n",
    "\n",
    "The Pre-Processing section extracts more specialized modules from the NLTK package such as tokenizers and stemmers to enable the preperation of text data for mathematical analysis.\n",
    "\n",
    "The Modeling section includes `nltk`’s sentiment analysis module, which can determine the mood of text, NLTK’s N-grams, and `gensim.models`’s word2vec. It also includes `statsmodels.api` which offers an array of linear models."
   ]
  },
  {
   "cell_type": "code",
   "execution_count": 220,
   "metadata": {},
   "outputs": [],
   "source": [
    "# Read and Peak at Data\n",
    "df = pd.read_csv(\"Data/Women's Clothing E-Commerce Reviews.csv\")\n",
    "df.drop(df.columns[0],inplace=True, axis=1)"
   ]
  },
  {
   "cell_type": "markdown",
   "metadata": {},
   "source": [
    "## 1. Preparation\n",
    "\n",
    "**Converting Text to a Model-able format: One Hot Encoding**"
   ]
  },
  {
   "cell_type": "code",
   "execution_count": null,
   "metadata": {
    "scrolled": true
   },
   "outputs": [],
   "source": [
    "df['tokenized'] = df[\"Review Text\"].astype(str).str.lower() # Turn into lower case text\n",
    "df['tokenized'] = df.apply(lambda row: tokenizer.tokenize(row['tokenized']), axis=1) # Apply tokenize to each row\n",
    "df['tokenized'] = df['tokenized'].apply(lambda x: [w for w in x if not w in stop_words]) # Remove stopwords from each row\n",
    "df['tokenized'] = df['tokenized'].apply(lambda x: [ps.stem(w) for w in x]) # Apply stemming to each row\n",
    "all_words = nltk.FreqDist(preprocessing(df['Review Text'])) # Calculate word occurence from whole block of text\n",
    "\n",
    "vocab_count = 300\n",
    "word_features= list(all_words.keys())[:vocab_count] # 5000 most recurring unique words\n",
    "print(\"Number of words columns (One Hot Encoding): {}\".format(len(all_words)))"
   ]
  },
  {
   "cell_type": "markdown",
   "metadata": {},
   "source": [
    "## Word2Vec"
   ]
  },
  {
   "cell_type": "code",
   "execution_count": null,
   "metadata": {},
   "outputs": [],
   "source": [
    "import gensim\n",
    "from gensim.models import word2vec\n",
    "import os\n",
    "os.chdir(r\"D:\\My Computer\\DATA\\Retail\")\n",
    "os.listdir()"
   ]
  },
  {
   "cell_type": "code",
   "execution_count": null,
   "metadata": {},
   "outputs": [],
   "source": [
    "# Load Google's pre-trained Word2Vec model.\n",
    "model = gensim.models.KeyedVectors.load_word2vec_format('GoogleNews-vectors-negative300.bin.gz', binary=True)"
   ]
  },
  {
   "cell_type": "code",
   "execution_count": null,
   "metadata": {},
   "outputs": [],
   "source": [
    "df.head()"
   ]
  },
  {
   "cell_type": "code",
   "execution_count": null,
   "metadata": {},
   "outputs": [],
   "source": [
    "w2vec = word2vec.Word2Vec(df[\"tokenized\"], min_count=5, size=200)"
   ]
  },
  {
   "cell_type": "code",
   "execution_count": null,
   "metadata": {},
   "outputs": [],
   "source": [
    "w2vec.most_similar([\"versatil\"],topn=10)"
   ]
  },
  {
   "cell_type": "code",
   "execution_count": null,
   "metadata": {},
   "outputs": [],
   "source": [
    "w2vec.most_similar([\"potato\"],topn=10)"
   ]
  },
  {
   "cell_type": "code",
   "execution_count": null,
   "metadata": {},
   "outputs": [],
   "source": [
    "w2vec.most_similar([\"worst\"],topn=10)"
   ]
  },
  {
   "cell_type": "code",
   "execution_count": null,
   "metadata": {},
   "outputs": [],
   "source": [
    "w2vec.most_similar([\"rag\"],topn=10)"
   ]
  },
  {
   "cell_type": "code",
   "execution_count": null,
   "metadata": {},
   "outputs": [],
   "source": [
    "w2vec.most_similar([\"compliment\"],topn=10)"
   ]
  },
  {
   "cell_type": "code",
   "execution_count": null,
   "metadata": {},
   "outputs": [],
   "source": [
    "w2vec.most_similar([\"love\"],topn=10)"
   ]
  },
  {
   "cell_type": "code",
   "execution_count": null,
   "metadata": {},
   "outputs": [],
   "source": [
    "w2vec.most_similar([\"shame\"],topn=10)"
   ]
  },
  {
   "cell_type": "code",
   "execution_count": null,
   "metadata": {},
   "outputs": [],
   "source": [
    "w2vec.most_similar([\"dear\"],topn=10)"
   ]
  }
 ],
 "metadata": {
  "kernelspec": {
   "display_name": "Python 3",
   "language": "python",
   "name": "python3"
  },
  "language_info": {
   "codemirror_mode": {
    "name": "ipython",
    "version": 3
   },
   "file_extension": ".py",
   "mimetype": "text/x-python",
   "name": "python",
   "nbconvert_exporter": "python",
   "pygments_lexer": "ipython3",
   "version": "3.6.4"
  }
 },
 "nbformat": 4,
 "nbformat_minor": 2
}
